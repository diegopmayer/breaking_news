{
 "cells": [
  {
   "cell_type": "code",
   "execution_count": 1,
   "metadata": {},
   "outputs": [],
   "source": [
    "import pandas as pd\n",
    "from requests import get, post\n",
    "from bs4 import BeautifulSoup as bs\n",
    "\n",
    "from selenium import webdriver "
   ]
  },
  {
   "cell_type": "markdown",
   "metadata": {},
   "source": [
    "# Get Request and Transform in Soup"
   ]
  },
  {
   "cell_type": "code",
   "execution_count": null,
   "metadata": {},
   "outputs": [],
   "source": [
    "#---------------------------link from google trends daily\n",
    "url = 'https://trends.google.com.br/trends/trendingsearches/daily?geo=BR'\n",
    "\n",
    "#---------------------------Make parser and put to the soup\n",
    "browser = webdriver.Chrome()\n",
    "browser.get(url)\n",
    "soup = bs(browser.page_source, 'html.parser')\n",
    "browser.close()"
   ]
  },
  {
   "cell_type": "markdown",
   "metadata": {},
   "source": [
    "# Scraping Data"
   ]
  },
  {
   "cell_type": "code",
   "execution_count": 20,
   "metadata": {},
   "outputs": [
    {
     "output_type": "stream",
     "name": "stdout",
     "text": "Com pandemia, comércio pela internet ganha 4 milhões de clientes\nhttps://oglobo.globo.com/economia/com-pandemia-comercio-pela-internet-ganha-4-milhoes-de-clientes-24407453\nhttps://t1.gstatic.com/images?q=tbn:ANd9GcTGUANYb9rW23AJtGyAGgWxvafAPSb5qT9JpGhSaV8ZETlgqdtAUwswo6Lf_d84Dz17zOZcrIEr\n--------------------------------------------------\nGrupo faz reféns, troca tiros com PM e explode banco em Ourinhos\nhttps://www.jcnet.com.br/noticias/regional/2020/05/722608-grupo-faz-refens--troca-tiros-com-pm-e-explode-banco-em-ourinhos.html\nhttps://t3.gstatic.com/images?q=tbn:ANd9GcRCmi5BH_2z-9r7Gsh0bK-WbjJ20hI607gKABxfFzo0aEZ4RbyNBdY8VgPVZPyI_pAjms1lBbSJ\n--------------------------------------------------\nJorge e Mateus fazem segunda live durante quarentena e alcançam ...\nhttps://g1.globo.com/go/goias/noticia/2020/05/02/jorge-e-mateus-fazem-segunda-live-durante-quarentena-neste-sabado-imperdivel-garante-dupla.ghtml\nhttps://t1.gstatic.com/images?q=tbn:ANd9GcTPCMSwmDTI3muixP8H6Z-PLFQnCYUteD2nCdvNVPHA3AUzCJFRFOpMYtqKc3GcBYHn7F_BT5gx\n--------------------------------------------------\nTermina depoimento de Moro: nove horas, novas mensagens de ...\nhttps://epoca.globo.com/guilherme-amado/termina-depoimento-de-moro-nove-horas-novas-mensagens-de-app-16-pizzas-24407891\nhttps://t0.gstatic.com/images?q=tbn:ANd9GcR1q95OVqCZPIjfVrq9UC1xCJD_V-E-IU2pQ6FceqZMXMO3_3J8CBOe1nfUcTJASHCdG2d4nNs3\n--------------------------------------------------\nLive do Lulu Santos: cantor se apresenta com banda, mas todos à ...\nhttps://entretenimento.uol.com.br/noticias/redacao/2020/05/02/live-de-lulu-santos-veja-data-horario-e-como-assistir.htm\nhttps://t3.gstatic.com/images?q=tbn:ANd9GcR34WYy99ocA8W0mEDe8SUDvfsUdZOS09hxqZMg9AaFWieHPB4G21tScoEyAVOAFgeaENWM7xg9\n--------------------------------------------------\nRaul Gil é internado em UTI de hospital em São Paulo\nhttps://g1.globo.com/sp/sao-paulo/noticia/2020/05/02/raul-gil-e-internado-em-uti-de-hospital-em-sao-paulo.ghtml\nhttps://t1.gstatic.com/images?q=tbn:ANd9GcQ7qFNuAkvnBW92si4xB7M2_3n04LHwJJNSHG_5djZLFkQN6W1CDnqQ8fPt5GGbRBqLBzEMtsmW\n--------------------------------------------------\nAlok testa luzes para live deste sábado e vira meme: \"Imagine a conta\"\nhttps://www.metropoles.com/colunas-blogs/pipocando/alok-testa-luzes-para-live-deste-sabado-e-vira-meme-imagine-a-conta\nhttps://t0.gstatic.com/images?q=tbn:ANd9GcROmILbWToVmM3w5U-GY3hx97FE_x57XNoPzQdq2LnEW6EwmU69iUacKV2IjiOnpLjBm2y6eN4U\n--------------------------------------------------\nLive do Gino e Geno: LIVE SÓ MODÃO neste sábado, 02 - CenárioMT\nhttps://www.cenariomt.com.br/2020/05/02/live-do-gino-e-geno-live-so-modao-neste-sabado-02/\nhttps://t2.gstatic.com/images?q=tbn:ANd9GcTM0W-kYiulgc2p-qr2lbOkjAj2e3eo2WXOm2XU7JN-eLEX0P4MyL_CQoSqufK-8ri3iCR8nSAv\n--------------------------------------------------\nNovo affair de Anitta, Gui Araújo tem passado de tretas e traições ...\nhttps://extra.globo.com/famosos/novo-affair-de-anitta-gui-araujo-tem-passado-de-tretas-traicoes-com-ex-namoradas-24407495.html\nhttps://t3.gstatic.com/images?q=tbn:ANd9GcQZXcUH3MCQuRVm6Kjp5cdgem2vwqo1r6hItqMVMi4xmzin0h6bcrmSO7xEGBuQCyfy20phKeSx\n--------------------------------------------------\nFrente fria passa rápido pelo RJ\nhttps://www.climatempo.com.br/noticia/2020/05/03/frente-fria-passa-rapido-pelo-rj-3319\nhttps://t3.gstatic.com/images?q=tbn:ANd9GcTq2zQIfDl9HIhsOquT44CAy9d2BZewy2sOTBQlPqgBMEGJyi7FqpkWDfrskNROF7Ng2rapg_Me\n--------------------------------------------------\nVeja ao vivo a live com show do forrozeiro Xand Avião\nhttps://www.metropoles.com/entretenimento/musica/veja-ao-vivo-a-live-com-show-do-forrozeiro-xand-aviao\nhttps://t3.gstatic.com/images?q=tbn:ANd9GcTQc4_5h6SkqEnaKyOc9024QnXpPYbzMFTadGOSUd-2shhczvtfnxw4TTGFMyVdhyGi9E42AQuJ\n--------------------------------------------------\nAos 70, Fausto Silva posa com todos os filhos e ganha homenagem ...\nhttps://extra.globo.com/famosos/aos-70-fausto-silva-posa-com-todos-os-filhos-ganha-homenagem-pelo-aniversario-24407326.html\nhttps://t3.gstatic.com/images?q=tbn:ANd9GcSZLA0UJVtvP15DYt9_ZN0DklhiaTrM2m9PsrWvTtr3mTXXVd3M055cb8ycYJkVuuZ7LzTAAZUb\n--------------------------------------------------\nMega-Sena: veja quais foram os números sorteados hoje\nhttps://noticias.uol.com.br/ultimas-noticias/2020/05/02/mega-sena-2257-confira-os-numeros-do-sorteio.htm\nhttps://t2.gstatic.com/images?q=tbn:ANd9GcSLFLs3Xv8fNA5BGHxqj9t9j3uUL7VTZPM41js7NBVTW_GDK9qPc_5E-w6Oafr-t82hYp4Yk2-Q\n--------------------------------------------------\nAuxílio emergencial: Caixa amplia horário de todas as agências a ...\nhttps://g1.globo.com/economia/noticia/2020/05/02/auxilio-emergencial-caixa-amplia-horario-de-todas-as-agencias-a-partir-de-segunda-feira.ghtml\nhttps://t3.gstatic.com/images?q=tbn:ANd9GcQh9UKag9C1zDz5XOL1FweBDt23v4Q4LtRT-z4gKhrIak1YTZY6-AdUr5Q7abYIrwqqdijYevXqkg\n--------------------------------------------------\nQuina 5259: confira os números do sorteio\nhttps://noticias.uol.com.br/ultimas-noticias/2020/05/02/quina-5259-confira-os-numeros-do-sorteio.htm\nhttps://t1.gstatic.com/images?q=tbn:ANd9GcQfk1rXHw9BgCTa7VWDXnHwYo0OKGPEtQr4aKh4FigioRk1LN-KXHR1Wu9VbCw9opLt5d_1Ttuf\n--------------------------------------------------\nHaddad na GloboNews: “Não é por falta de pedido de impeachment ...\nhttps://www.brasil247.com/brasil/haddad-na-globonews-nao-e-por-falta-de-pedido-de-impeachment-que-o-impeachment-nao-vai-acontecer\nhttps://t2.gstatic.com/images?q=tbn:ANd9GcRivjJyHLeEIrTXNY4TYSWlBryu-MJvpPzBvYLvmKbxuB8sxWO23ttRT15PLkpgl86v2BO8t0Md\n--------------------------------------------------\nExplicamos o final confuso de Dias Sem Fim, da Netflix\nhttps://observatoriodocinema.uol.com.br/filmes/2020/05/explicamos-o-final-confuso-de-dias-sem-fim-da-netflix\nhttps://t1.gstatic.com/images?q=tbn:ANd9GcSUP_JuJZ6eaOqXiSY-aVUN2-sfU6GJseY3hrH_lx2PeA27DBO6ke58f0Vg98cuh-0ITKDSWFaq\n--------------------------------------------------\nGabriel Pelícia, o Quinzinho de Fina Estampa, fala sobre o desejo ...\nhttps://observatoriodatv.uol.com.br/noticias/gabriel-pelicia-o-quinzinho-de-fina-estampa-fala-sobre-o-desejo-de-retornar-a-tv\nhttps://t3.gstatic.com/images?q=tbn:ANd9GcQcBzuyBI3WHZsut5--sHA5s72niJ6vZf58ZYHLIo1uzNWd6be2QY49CpeRl5NOJhmazW9mrMUo\n--------------------------------------------------\nRosanne Mulholland e Marcos Veras revelam nome do primeiro filho\nhttps://kogut.oglobo.globo.com/noticias-da-tv/noticia/2020/05/rosanne-mulholland-e-marcos-veras-revelam-nome-do-filho-e-contam-que-gravidez-foi-planejada-quando-demos-chance-veio-rapidinho.html\nhttps://t0.gstatic.com/images?q=tbn:ANd9GcTscvSDJY2ScXM4aQQhKXUHzmwh3wKb4eZjBu9WBsh4IfubqOUB_a14GwkADkkCNSoGy4B4P8cZ\n--------------------------------------------------\nWarren Buffett: Nunca aposte contra os EUA (mas fuja das aéreas ...\nhttps://exame.abril.com.br/mercados/warren-buffett-nunca-aposte-contra-os-eua-mas-fuja-das-aereas-agora/\nhttps://t0.gstatic.com/images?q=tbn:ANd9GcRnljqUfTRIECmd0_DFtFLoCDce5B8O5PhVP9FxCD865PV1xpNfdfFMDOJ2lQhF51jDlSBGZ2VC\n--------------------------------------------------\nDupla Maria Cecília e Rodolfo faz live hoje na internet\nhttps://www.correiodoestado.com.br/correio-b/dupla-maria-cecilia-e-rodolfo-faz-live-hoje-na-internet/371504\nhttps://t2.gstatic.com/images?q=tbn:ANd9GcRU0XQsUpZa2YsRfWNPLzeUmZms4FazDXr-XmfJOA_stz53meSopDICHCtz9zpzKjUsteyxcrBO\n--------------------------------------------------\n"
    }
   ],
   "source": [
    "#---------------------------Get the title and links from google\n",
    "links, titles, imgs = [], [], []\n",
    "for getLink in soup.find_all('div', {'ng-if':\"::imageUrl\"}):\n",
    "    title = getLink.find('a').get('title')\n",
    "    linkHref = getLink.find('a').get('href')\n",
    "    img = getLink.find('img').get('src')\n",
    "    links.append(linkHref), titles.append(title), imgs.append(img)\n",
    "    print(title)\n",
    "    print(linkHref)\n",
    "    print(img)\n",
    "    print('-'*50)\n",
    "\n",
    "#---------------------------return a list of Links and Titles"
   ]
  }
 ],
 "metadata": {
  "language_info": {
   "codemirror_mode": {
    "name": "ipython",
    "version": 3
   },
   "file_extension": ".py",
   "mimetype": "text/x-python",
   "name": "python",
   "nbconvert_exporter": "python",
   "pygments_lexer": "ipython3",
   "version": "3.7.4-final"
  },
  "orig_nbformat": 2,
  "kernelspec": {
   "name": "python37464bitvenvvenv6a9964ecec784b919473c820c436876e",
   "display_name": "Python 3.7.4 64-bit ('venv': venv)"
  }
 },
 "nbformat": 4,
 "nbformat_minor": 2
}