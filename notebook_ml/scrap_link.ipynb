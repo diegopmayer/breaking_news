{
 "cells": [
  {
   "cell_type": "code",
   "execution_count": 1,
   "metadata": {},
   "outputs": [],
   "source": [
    "import pandas as pd\n",
    "from requests import get, post\n",
    "from bs4 import BeautifulSoup as bs\n",
    "\n",
    "from selenium import webdriver "
   ]
  },
  {
   "cell_type": "markdown",
   "metadata": {},
   "source": [
    "# Get Request and Transform in Soup"
   ]
  },
  {
   "cell_type": "code",
   "execution_count": 2,
   "metadata": {},
   "outputs": [],
   "source": [
    "#---------------------------link from google trends daily\n",
    "url = 'https://trends.google.com.br/trends/trendingsearches/daily?geo=BR'\n",
    "\n",
    "#---------------------------Make parser and put to the soup\n",
    "browser = webdriver.Chrome()\n",
    "browser.get(url)\n",
    "soup = bs(browser.page_source, 'html.parser')\n",
    "browser.close()"
   ]
  },
  {
   "cell_type": "markdown",
   "metadata": {},
   "source": [
    "# Scraping Data"
   ]
  },
  {
   "cell_type": "code",
   "execution_count": 72,
   "metadata": {},
   "outputs": [],
   "source": [
    "#---------------------------Get the title and links from google\n",
    "def test_scrap():\n",
    "    links, titles, imgs, post = [], [], [], []\n",
    "    for getLink in soup.find_all('div', {'ng-if':\"::imageUrl\"}):\n",
    "        title = getLink.find('a').get('title')\n",
    "        linkHref = getLink.find('a').get('href')\n",
    "        img = getLink.find('img').get('src')\n",
    "        links.append(linkHref), titles.append(title), imgs.append(img)\n",
    "        post.append(\n",
    "            {'title':title, \n",
    "            'link':linkHref,\n",
    "            'img':img,\n",
    "            })\n",
    "\n",
    "    return post\n",
    "#---------------------------return a list of Links and Titles"
   ]
  },
  {
   "cell_type": "code",
   "execution_count": 73,
   "metadata": {},
   "outputs": [],
   "source": [
    "posts = test_scrap()"
   ]
  },
  {
   "cell_type": "code",
   "execution_count": 79,
   "metadata": {},
   "outputs": [],
   "source": [
    "df = pd.DataFrame(posts)"
   ]
  },
  {
   "cell_type": "code",
   "execution_count": 69,
   "metadata": {},
   "outputs": [],
   "source": [
    "posts['post_title'] = 'titulo','links','img'\n"
   ]
  },
  {
   "cell_type": "code",
   "execution_count": 70,
   "metadata": {},
   "outputs": [
    {
     "output_type": "execute_result",
     "data": {
      "text/plain": "{'post_title': ('titulo', 'links', 'img')}"
     },
     "metadata": {},
     "execution_count": 70
    }
   ],
   "source": [
    "posts"
   ]
  },
  {
   "cell_type": "code",
   "execution_count": 71,
   "metadata": {},
   "outputs": [
    {
     "output_type": "error",
     "ename": "AttributeError",
     "evalue": "'dict' object has no attribute 'post_title'",
     "traceback": [
      "\u001b[1;31m---------------------------------------------------------------------------\u001b[0m",
      "\u001b[1;31mAttributeError\u001b[0m                            Traceback (most recent call last)",
      "\u001b[1;32m<ipython-input-71-2a54e60c10dc>\u001b[0m in \u001b[0;36m<module>\u001b[1;34m\u001b[0m\n\u001b[1;32m----> 1\u001b[1;33m \u001b[0mposts\u001b[0m\u001b[1;33m.\u001b[0m\u001b[0mpost_title\u001b[0m\u001b[1;33m\u001b[0m\u001b[1;33m\u001b[0m\u001b[0m\n\u001b[0m",
      "\u001b[1;31mAttributeError\u001b[0m: 'dict' object has no attribute 'post_title'"
     ]
    }
   ],
   "source": []
  },
  {
   "cell_type": "code",
   "execution_count": null,
   "metadata": {},
   "outputs": [],
   "source": []
  }
 ],
 "metadata": {
  "language_info": {
   "codemirror_mode": {
    "name": "ipython",
    "version": 3
   },
   "file_extension": ".py",
   "mimetype": "text/x-python",
   "name": "python",
   "nbconvert_exporter": "python",
   "pygments_lexer": "ipython3",
   "version": "3.7.4-final"
  },
  "orig_nbformat": 2,
  "kernelspec": {
   "name": "python37464bitvenvvenv6a9964ecec784b919473c820c436876e",
   "display_name": "Python 3.7.4 64-bit ('venv': venv)"
  }
 },
 "nbformat": 4,
 "nbformat_minor": 2
}