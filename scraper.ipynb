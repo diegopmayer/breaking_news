{
  "cells": [
    {
      "cell_type": "code",
      "metadata": {
        "id": "H2y6I4PQcM_1",
        "colab_type": "code",
        "colab": {}
      },
      "source": [
        "#!pip install selenium"
      ],
      "execution_count": 0,
      "outputs": []
    },
    {
      "cell_type": "code",
      "execution_count": null,
      "metadata": {
        "colab": {},
        "colab_type": "code",
        "id": "fYRI2yb8R3Qn"
      },
      "outputs": [],
      "source": [
        "import pandas as pd\n",
        "from requests import get, post\n",
        "from bs4 import BeautifulSoup as bs\n",
        "\n",
        "from selenium import webdriver "
      ]
    },
    {
      "cell_type": "code",
      "execution_count": 3,
      "metadata": {},
      "outputs": [],
      "source": [
        "url = 'https://trends.google.com.br/trends/trendingsearches/daily?geo=BR'"
      ]
    },
    {
      "cell_type": "code",
      "execution_count": 22,
      "metadata": {},
      "outputs": [],
      "source": [
        "browser = webdriver.Chrome()\n",
        "browser.get(url)\n",
        "soup = bs(browser.page_source, 'html.parser')"
      ]
    },
    {
      "cell_type": "code",
      "metadata": {
        "id": "uVExpRUgSaly",
        "colab_type": "code",
        "colab": {
          "base_uri": "https://localhost:8080/",
          "height": 156
        },
        "outputId": "99b99b05-b325-4deb-afc3-1f2fa4e3d18c"
      },
      "source": [
        "links = soup.find('div', {'ng-if':\"::imageUrl\"}).find('a').get('href')\n",
        "titles = soup.find('div', {'ng-if':\"::imageUrl\"}).find('a').get('title')"
      ],
      "execution_count": 37,
      "outputs": []
    },
    {
      "cell_type": "code",
      "metadata": {
        "id": "llJW13gzfPLV",
        "colab_type": "code",
        "colab": {}
      },
      "source": [
        "brows_n = webdriver.Chrome()\n",
        "brows_n.get(links)\n",
        "soup_n = bs(brows_n.page_source, 'html.parser')"
      ],
      "execution_count": 44,
      "outputs": []
    },
    {
      "cell_type": "code",
      "execution_count": 50,
      "metadata": {},
      "outputs": [],
      "source": [
        "title_n = soup_n.find('div', {'class': 'title'}).get_text()\n",
        "img_n = soup_n.find('picture').find('img').get('src')"
      ]
    },
    {
      "cell_type": "code",
      "execution_count": 70,
      "metadata": {},
      "outputs": [
        {
          "output_type": "execute_result",
          "data": {
            "text/plain": "' Whindersson Nunes e Luisa Sonza usaram suas redes sociais para anunciar a separação. Casados desde fevereiro de 2018, o humorista e a cantora compartilharam o mesmo texto no Instagram na manhã desta quarta-feira (29) para falar sobre a decisão. '"
          },
          "metadata": {},
          "execution_count": 70
        }
      ],
      "source": [
        "text_n = soup_n.find('p', {'class': 'content-text__container'}).get_text()"
      ]
    },
    {
      "cell_type": "code",
      "execution_count": null,
      "metadata": {},
      "outputs": [],
      "source": []
    }
  ],
  "metadata": {
    "colab": {
      "name": "scraper.ipynb",
      "provenance": [],
      "collapsed_sections": [],
      "toc_visible": true
    },
    "kernelspec": {
      "name": "python3",
      "display_name": "Python 3"
    }
  },
  "nbformat": 4,
  "nbformat_minor": 0
}